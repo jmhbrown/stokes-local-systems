{
 "cells": [
  {
   "cell_type": "markdown",
   "id": "f406d3f8",
   "metadata": {},
   "source": [
    "# Code for Stokes Local Systems\n",
    "\n",
    "\n",
    "Here's some code-in-progress for visualizing and exploring moduli spaces of irregular local systems for GLn. \n",
    "\n",
    "## TODO:\n",
    "- [x] Find Stablizers\n",
    "- [ ] Find filtrations?\n",
    "- [x] Compute singular (anti-stokes) directions, make a graph\n",
    "- [ ] Compute Stokes directions\n",
    "- [ ] Compute Stokes groups? \n",
    "- [ ] Make a nice graphic that could go in a paper?\n"
   ]
  },
  {
   "cell_type": "code",
   "execution_count": 26,
   "id": "8f5832fd",
   "metadata": {},
   "outputs": [],
   "source": [
    "def get_weight_function(Q,alpha,Laurent_ring=LaurentPolynomialRing(SR,'z')):\n",
    "    \"\"\"\n",
    "    Given a singularity type Q,\n",
    "    and root alpha, returns the function \n",
    "    defined by their composition.\n",
    "    \n",
    "    Inputs:\n",
    "    Q dictionary {int: matrix} - defines the singularity type. Az^-1 + Bz^-3 should be written {-1:A,-3:B}\n",
    "    alpha (function) - the weight, should be a function that accepts A as its only argument\n",
    "    Laurent_ring -- where alpha takes values. QQ[z,z^(-1)] by default.\n",
    "    \n",
    "    Output:\n",
    "    Laurent_ring.element - what's written alpha(Q) in Boalch's Geometry and Braiding of Stokes Data pg. 331\n",
    "    \n",
    "    Example:\n",
    "    alpha_01 = lambda A : matrix(A)[0,0]-matrix(A)[1,1]\n",
    "    Q = {-1:diagonal_matrix([1,1,2]), -3:diagonal_matrix([1,2,2])} \n",
    "    \n",
    "    get_weight_function(Q,alpha_01)\n",
    "    \n",
    "    \"\"\"\n",
    "    z = Laurent_ring.gen()\n",
    "    return Laurent_ring.sum([Laurent_ring(alpha(v))*z^(k) for k,v in Q.items()])\n",
    "    \n",
    "def get_root(i,negate=False):\n",
    "    \"\"\"\n",
    "    This little function gets around python's poor\n",
    "    behavior of list comphrension of lambdas\n",
    "    \n",
    "    Input:\n",
    "    i int -- we want the i,i+1 weight.\n",
    "    \n",
    "    Output:\n",
    "    lambda\n",
    "    \"\"\"\n",
    "    if negate:\n",
    "        the_root = lambda A : A[i+1,i+1]-A[i,i]\n",
    "    else:\n",
    "        the_root = lambda A : A[i,i]-A[i+1,i+1]\n",
    "        \n",
    "    return the_root\n",
    "\n",
    "def get_simple_roots(rank):\n",
    "    \"\"\"\n",
    "    Gets the list of simple roots for Gln\n",
    "    \n",
    "    Input:\n",
    "    rank int - the rank n\n",
    "    \n",
    "    Output list[lambda] - a list of lambdas implementing the simple roots.\n",
    "    \n",
    "    Example:\n",
    "    the_roots = get_simple_roots(4)\n",
    "    [alpha(diagonal_matrix([3,1,1,6])) for alpha in the_roots]\n",
    "    > [2, 0, -5]\n",
    "    \n",
    "    this is [3-1, 1-1, 1-6]\n",
    "    \"\"\"\n",
    "    return [get_root(i) for i in range(rank-1)]+[get_root(i,negate=True) for i in range(rank-1)]\n",
    "\n",
    "def get_all_simple_root_functions(Q,Laurent_ring=LaurentPolynomialRing(SR,'z')):\n",
    "    \"\"\"\n",
    "    Gets the list of simple root functions for a given singularity type Q.\n",
    "    \n",
    "    Input:\n",
    "    Q dict {int: matrix} -- the singularity type. the keys are the powers of z and the matrices are their coefficients.\n",
    "    Laurent_ring -- what ring we want the root function to take values in. QQ[z,z^-1] by default.\n",
    "    \n",
    "    Example:\n",
    "    Q = {-1:diagonal_matrix([5,4,1,2]), -3:diagonal_matrix([1,1,3,2])}\n",
    "    get_all_simple_root_functions(Q)\n",
    "    > [z^-1, -2*z^-3 + 3*z^-1, z^-3 - z^-1]\n",
    "    \"\"\"\n",
    "    \n",
    "    rank = matrix(list(Q.values())[0]).rank()\n",
    "    simple_roots = get_simple_roots(rank)\n",
    "    \n",
    "    return [get_weight_function(Q,alpha,Laurent_ring=Laurent_ring) for alpha in simple_roots]"
   ]
  },
  {
   "cell_type": "code",
   "execution_count": 27,
   "id": "5976b677",
   "metadata": {},
   "outputs": [
    {
     "name": "stdout",
     "output_type": "stream",
     "text": [
      "root_function_list:  [-z^-1, -z^-3 + z^-1, z^-1, z^-3 - z^-1]\n"
     ]
    },
    {
     "data": {
      "text/plain": [
       "[(-z^-1, [1]),\n",
       " (-z^-3 + z^-1, [-1/2*I*sqrt(3) - 1/2, 1, 1/2*I*sqrt(3) - 1/2]),\n",
       " (z^-1, [-1]),\n",
       " (z^-3 - z^-1, [1/2*I*sqrt(3) + 1/2, -1, -1/2*I*sqrt(3) + 1/2])]"
      ]
     },
     "execution_count": 27,
     "metadata": {},
     "output_type": "execute_result"
    }
   ],
   "source": [
    "Q = {-1:diagonal_matrix([1,2,1]), -3:diagonal_matrix([1,1,2])}\n",
    "\n",
    "#get_all_simple_root_functions(Q)\n",
    "\n",
    "get_all_singular_directions_for_irreg_type(Q)"
   ]
  },
  {
   "cell_type": "code",
   "execution_count": 3,
   "id": "a667a3e2",
   "metadata": {},
   "outputs": [],
   "source": [
    "A1 = diagonal_matrix([1,1,2]); A2 = diagonal_matrix([1,2,3])\n",
    "CS1 = A1.column_space()"
   ]
  },
  {
   "cell_type": "markdown",
   "id": "d08fbd76",
   "metadata": {},
   "source": [
    "### Stablizers"
   ]
  },
  {
   "cell_type": "code",
   "execution_count": 4,
   "id": "e7776a26",
   "metadata": {},
   "outputs": [],
   "source": [
    "import itertools\n",
    "\n",
    "def find_matrix_stablizer(diag_matrix):\n",
    "    rank = diag_matrix.rank()\n",
    "    indices = itertools.combinations(range(rank),2)\n",
    "    stab_matrix = matrix.identity(rank)\n",
    "    \n",
    "    for i,j in indices:\n",
    "        if diag_matrix[i,i] == diag_matrix[j,j]:\n",
    "            stab_matrix[i,j] = 1\n",
    "            stab_matrix[j,i] = 1\n",
    "            \n",
    "    return stab_matrix\n",
    "    \n",
    "    \n",
    "def find_irreg_type_stablizer(Q):\n",
    "    \"\"\"\n",
    "    Finds the stablizers of the irregularity type Q.\n",
    "    This is actually a matrix group, but we just \n",
    "    make a matrix group with 1s in the components \n",
    "    that can be non-zero. \n",
    "    \n",
    "    Example:\n",
    "    Q = {-1:diagonal_matrix([1,1,2,1]), -3:diagonal_matrix([1,1,3,2])}\n",
    "    find_irreg_type_stablizer(Q)\n",
    "    >\n",
    "        [1 1 0 0]\n",
    "        [1 1 0 0]\n",
    "        [0 0 1 0]\n",
    "        [0 0 0 1]\n",
    "    \"\"\"\n",
    "    list_of_stablizers = []\n",
    "    for A in Q.values():\n",
    "        list_of_stablizers.append(find_matrix_stablizer(A))\n",
    "        \n",
    "    intersect_stablizers = lambda A,B : matrix([[min(A[i,j],B[i,j]) for j in range(A.ncols())] for i in range(A.nrows())])\n",
    "    \n",
    "    \n",
    "    return reduce(intersect_stablizers,list_of_stablizers)\n",
    "    "
   ]
  },
  {
   "cell_type": "code",
   "execution_count": 5,
   "id": "96a493c7",
   "metadata": {},
   "outputs": [
    {
     "data": {
      "image/png": "[encoded data removed]",
      "text/plain": [
       "Graphics object consisting of 1 graphics primitive"
      ]
     },
     "metadata": {},
     "output_type": "display_data"
    },
    {
     "data": {
      "image/png": "[encoded data removed]",
      "text/plain": [
       "Graphics object consisting of 1 graphics primitive"
      ]
     },
     "metadata": {},
     "output_type": "display_data"
    },
    {
     "name": "stdout",
     "output_type": "stream",
     "text": [
      "Intersection:\n"
     ]
    },
    {
     "data": {
      "image/png": "[encoded data removed]",
      "text/plain": [
       "Graphics object consisting of 1 graphics primitive"
      ]
     },
     "metadata": {},
     "output_type": "display_data"
    }
   ],
   "source": [
    "#find_matrix_stablizer(diagonal_matrix([1,1,2,2,1])).plot(axes=False,frame=False,cmap='GnBu',figsize=2).show()\n",
    "\n",
    "for A in Q.values():\n",
    "    find_matrix_stablizer(A).plot(frame=False,cmap='GnBu',figsize=2).show()\n",
    "    \n",
    "print(\"Intersection:\")    \n",
    "find_irreg_type_stablizer(Q).plot(frame=False,cmap='GnBu',figsize=2).show()"
   ]
  },
  {
   "cell_type": "markdown",
   "id": "ee0cdd30",
   "metadata": {},
   "source": [
    "### Singular Directions"
   ]
  },
  {
   "cell_type": "code",
   "execution_count": 29,
   "id": "e61bc1ff",
   "metadata": {},
   "outputs": [],
   "source": [
    "def get_singular_directions_for_root_function(root_function,rgbcolor=hue(.3),size=40):\n",
    "    \"\"\"\n",
    "    Returns a plot showing the singular (or Anti-Stokes) \n",
    "    directions of a root function, which should be a laurent polynomial.\n",
    "    \n",
    "    Input:\n",
    "    root_function (LaurentPolynomial.element) -- the root function (called q_\\alpha in Boalch)\n",
    "    rgbcolor -- what color to make the dots marking singular directions. default: hue(.3)\n",
    "    size int -- how big the dots should be. default: 60\n",
    "    include_circle bool -- whether or not to put a dashed circle on the plot. default: True\n",
    "    \n",
    "    Output:\n",
    "    graphics primitive showing a dashed circle with points on it.\n",
    "    \n",
    "    Example:\n",
    "    R.<z> = LaurentPolynomialRing(QQ,'z')\n",
    "    qq = z^(-1)*8 + z^(-3)*3 +z^(-5)\n",
    "    show_singular_directions(qq,color=hue(.1))\n",
    "    > [returns a plot]\n",
    "    \n",
    "    \"\"\"\n",
    " \n",
    "    directions_list = []\n",
    "    if root_function != 0:\n",
    "        root_fun_dict = root_function.dict()\n",
    "        degree = -1*reduce(min,root_fun_dict.keys())\n",
    "        leading_coeff = root_fun_dict[-degree]\n",
    "        \n",
    "        directions_list = [exp(i*arg(leading_coeff))*exp((2*n+1)*pi*i/degree) for n in range(degree)]\n",
    "    \n",
    "    return directions_list\n",
    " \n",
    "\n",
    "\n",
    "\n",
    "def get_all_singular_directions_for_irreg_type(Q):\n",
    "    \"\"\"\n",
    "    Finds the singular directions for this irregularity type.\n",
    "    does this by:\n",
    "    1. finding the weight functions for all the simple roots.\n",
    "    these are all Laurent polynomials.\n",
    "    2. finding at which angles each weight function has a negative-real \n",
    "    leading (i.e. most-singular) term.\n",
    "    3. plotting all those points together with a nice circle.\n",
    "    \n",
    "    Input:\n",
    "    Q dict {int:diagonal_matrix} -- the irregularity type\n",
    "    \n",
    "    Output:\n",
    "    plot -- a plot showing a dashed circle and all singular directions.\n",
    "    \n",
    "    Q = {-3:diagonal_matrix([1,1+i,4,7+3*i,exp(i*pi/3),-2*i])}\n",
    "    show_all_singular_directions_for_irreg_type(Q)\n",
    "    > a plot of all the singular directions.\n",
    "    \n",
    "    \"\"\"\n",
    "    root_function_list = get_all_simple_root_functions(Q)\n",
    "    print(\"root_function_list: \",root_function_list)\n",
    "    n = len(root_function_list)\n",
    "    all_directions = [\n",
    "        (root_function, get_singular_directions_for_root_function(root_function) )\n",
    "        for root_function in root_function_list\n",
    "    ]\n",
    "    \n",
    "    return all_directions\n",
    "    \n",
    "    \n",
    "    \n",
    "    \n",
    "def show_all_singular_directions_for_irreg_type(Q):\n",
    "\n",
    "    all_sing_directions = get_all_singular_directions_for_irreg_type(Q)\n",
    "    num_roots = len(all_sing_directions)    \n",
    "    \n",
    "    the_plot = Graphics()\n",
    "    the_plot += circle((0,0),1,linestyle='dashed',edgecolor='black',axes=False)\n",
    "    \n",
    "    for ii in range(num_roots):\n",
    "        for direction in all_sing_directions[ii][1]:\n",
    "            tmp_point = point(direction,alpha=1,size=60,rgbcolor=hue(ii/num_roots))\n",
    "            the_plot += tmp_point\n",
    "    \n",
    "    \n",
    "    return the_plot\n",
    "\n",
    "\n",
    "    "
   ]
  },
  {
   "cell_type": "code",
   "execution_count": 31,
   "id": "42fe165f",
   "metadata": {},
   "outputs": [
    {
     "name": "stdout",
     "output_type": "stream",
     "text": [
      "root_function_list:  [-I*z^-3, (I - 3)*z^-3, (-3*I - 3)*z^-3, (-1/2*I*sqrt(3) + 3*I + 13/2)*z^-3, (1/2*I*sqrt(3) + 2*I + 1/2)*z^-3, I*z^-3, (-I + 3)*z^-3, (3*I + 3)*z^-3, (1/2*I*sqrt(3) - 3*I - 13/2)*z^-3, (-1/2*I*sqrt(3) - 2*I - 1/2)*z^-3]\n",
      "root_function_list:  [-I*z^-3, (I - 3)*z^-3, (-3*I - 3)*z^-3, (-1/2*I*sqrt(3) + 3*I + 13/2)*z^-3, (1/2*I*sqrt(3) + 2*I + 1/2)*z^-3, I*z^-3, (-I + 3)*z^-3, (3*I + 3)*z^-3, (1/2*I*sqrt(3) - 3*I - 13/2)*z^-3, (-1/2*I*sqrt(3) - 2*I - 1/2)*z^-3]\n"
     ]
    },
    {
     "data": {
      "image/png": "[encoded data removed]",
      "text/plain": [
       "Graphics object consisting of 31 graphics primitives"
      ]
     },
     "execution_count": 31,
     "metadata": {},
     "output_type": "execute_result"
    }
   ],
   "source": [
    "get_all_singular_directions_for_irreg_type(Q_long)\n",
    "show_all_singular_directions_for_irreg_type(Q_long)"
   ]
  },
  {
   "cell_type": "code",
   "execution_count": 15,
   "id": "a641c2d2",
   "metadata": {},
   "outputs": [],
   "source": [
    "Q_long = {-3:diagonal_matrix([1,1+i,4,7+3*i,exp(i*pi/3),-2*i])}\n",
    "#show_all_singular_directions_for_irreg_type(Q_long)"
   ]
  },
  {
   "cell_type": "code",
   "execution_count": 32,
   "id": "aad2e15b",
   "metadata": {},
   "outputs": [
    {
     "name": "stdout",
     "output_type": "stream",
     "text": [
      "root_function_list:  [-z^-1, z^-1]\n"
     ]
    },
    {
     "data": {
      "image/png": "[encoded data removed]",
      "text/plain": [
       "Graphics object consisting of 3 graphics primitives"
      ]
     },
     "execution_count": 32,
     "metadata": {},
     "output_type": "execute_result"
    }
   ],
   "source": [
    "Q_bad = {-1:diagonal_matrix([2,3])}\n",
    "show_all_singular_directions_for_irreg_type(Q_bad)"
   ]
  },
  {
   "cell_type": "markdown",
   "id": "908fd5db",
   "metadata": {},
   "source": [
    "SCRATCH -- Trying to use more fancy Sage Code\n",
    "--------------------------------------"
   ]
  },
  {
   "cell_type": "code",
   "execution_count": null,
   "id": "beefe77a",
   "metadata": {},
   "outputs": [],
   "source": [
    "def construct_diagonal_matrix_space(rank,base_ring)\n",
    "\"\"\"\n",
    "Builds the space of rank by rank diagonal matrices over base_ring.\n",
    "\"\"\"\n",
    "    MS = MatrixSpace(QQ,rank,rank)\n",
    "    gens_list = [MS.diagonal_matrix([0]*i+[1]+[0]*(rank-i-1)) for i in range(rank)]\n",
    "    return MS.submodule(gens_list)\n"
   ]
  },
  {
   "cell_type": "code",
   "execution_count": null,
   "id": "07ea1ddc",
   "metadata": {},
   "outputs": [],
   "source": [
    "elem = DS.from_vector(vector([1,2,3]))"
   ]
  },
  {
   "cell_type": "code",
   "execution_count": null,
   "id": "0805703e",
   "metadata": {},
   "outputs": [],
   "source": [
    "alpha_ij(elem.lift(),1,2)"
   ]
  },
  {
   "cell_type": "code",
   "execution_count": null,
   "id": "53177e90",
   "metadata": {},
   "outputs": [],
   "source": [
    "DS.__class__"
   ]
  },
  {
   "cell_type": "code",
   "execution_count": null,
   "id": "c2ecffd0",
   "metadata": {},
   "outputs": [],
   "source": []
  }
 ],
 "metadata": {
  "kernelspec": {
   "display_name": "SageMath 9.5",
   "language": "sage",
   "name": "sagemath"
  },
  "language_info": {
   "codemirror_mode": {
    "name": "ipython",
    "version": 3
   },
   "file_extension": ".py",
   "mimetype": "text/x-python",
   "name": "python",
   "nbconvert_exporter": "python",
   "pygments_lexer": "ipython3",
   "version": "3.10.12"
  },
  "varInspector": {
   "cols": {
    "lenName": 16,
    "lenType": 16,
    "lenVar": 40
   },
   "kernels_config": {
    "python": {
     "delete_cmd_postfix": "",
     "delete_cmd_prefix": "del ",
     "library": "var_list.py",
     "varRefreshCmd": "print(var_dic_list())"
    },
    "r": {
     "delete_cmd_postfix": ") ",
     "delete_cmd_prefix": "rm(",
     "library": "var_list.r",
     "varRefreshCmd": "cat(var_dic_list()) "
    }
   },
   "types_to_exclude": [
    "module",
    "function",
    "builtin_function_or_method",
    "instance",
    "_Feature"
   ],
   "window_display": false
  }
 },
 "nbformat": 4,
 "nbformat_minor": 5
}
